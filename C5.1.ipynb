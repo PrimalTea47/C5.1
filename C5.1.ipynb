{
 "cells": [
  {
   "cell_type": "code",
   "execution_count": null,
   "metadata": {},
   "outputs": [],
   "source": [
    "def ajout(t,l):\n",
    "\tl.extend(t)\n",
    "\treturn l\n",
    "\n",
    "print(ajout([2021,2022],[\"Ozanam\",'test']))"
   ]
  },
  {
   "cell_type": "code",
   "execution_count": null,
   "metadata": {},
   "outputs": [],
   "source": [
    "l = [4,7,3]\n",
    "def ajout(t):\n",
    "    l.extend(t)\n",
    "    return l\n",
    "print(ajout(['test',123]))"
   ]
  },
  {
   "cell_type": "markdown",
   "metadata": {},
   "source": [
    "Quelle est la différence entre les deux fonctions ajout() ?\n",
    "\n",
    "La différence est que l'une d'entre elle a besoin d'une variable extérieure à la fonction. La sortie de la fonction ne dépend que de son entrée. Donc la deuxième fonction ajout() n'est pas fonctionnelle tandis que la première ajout(t,l) l'est bel et bien."
   ]
  }
 ],
 "metadata": {
  "language_info": {
   "name": "python"
  },
  "orig_nbformat": 4
 },
 "nbformat": 4,
 "nbformat_minor": 2
}
