{
 "cells": [
  {
   "cell_type": "code",
   "execution_count": null,
   "metadata": {},
   "outputs": [],
   "source": [
    "def ajout(t,l):\n",
    "\tl.extend(t)\n",
    "\treturn l\n",
    "\n",
    "print(ajout([2021,2022],[\"Ozanam\",'test']))"
   ]
  },
  {
   "cell_type": "code",
   "execution_count": null,
   "metadata": {},
   "outputs": [],
   "source": [
    "l = [4,7,3]\n",
    "def ajout(t):\n",
    "    l.extend(t)\n",
    "    return l\n",
    "print(ajout(['test',123]))"
   ]
  }
 ],
 "metadata": {
  "language_info": {
   "name": "python"
  },
  "orig_nbformat": 4
 },
 "nbformat": 4,
 "nbformat_minor": 2
}
